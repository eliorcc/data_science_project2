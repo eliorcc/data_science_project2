{
 "cells": [
  {
   "cell_type": "markdown",
   "metadata": {},
   "source": [
    "# Introduction to Data Science - Homework 2\n",
    "\n",
    "Due: Monday, May 3 2020, 11:59pm.\n",
    "\n",
    "In this homework you will scrape (a) a wikipedia page and (b) github repositories and organize the information in a Pandas dataframe. "
   ]
  },
  {
   "cell_type": "markdown",
   "metadata": {},
   "source": [
    "## Your Data\n",
    "First Name: ELIOR\n",
    "<br>\n",
    "Last Name: COHEN\n",
    "<br>\n",
    "E-mail: eliorcc@gmail.com\n",
    "<br>\n",
    "UID: 211899091\n",
    "<br>"
   ]
  },
  {
   "cell_type": "code",
   "execution_count": 1,
   "metadata": {},
   "outputs": [],
   "source": [
    "# imports and setup \n",
    "from bs4 import BeautifulSoup\n",
    "# you can use either of these libraries to get html from a website\n",
    "import time\n",
    "import os\n",
    "import urllib3\n",
    "\n",
    "import pandas as pd\n",
    "import scipy as sc\n",
    "import numpy as np\n",
    "\n",
    "import statsmodels.formula.api as sm\n",
    "\n",
    "import matplotlib.pyplot as plt \n",
    "plt.style.use('ggplot')\n",
    "%matplotlib inline  \n",
    "plt.rcParams['figure.figsize'] = (10, 6) \n",
    "\n",
    "# where the data is stored\n",
    "DATA_PATH = \"data\"\n",
    "\n",
    "\n",
    "#urllib to load webpage\n",
    "urllib3.disable_warnings() #to turnoff ssl warnings.\n",
    "http = urllib3.PoolManager()\n"
   ]
  },
  {
   "cell_type": "markdown",
   "metadata": {},
   "source": [
    "### 0. Wikipedia scraping\n",
    "Write a script that crawls a random wikipedia using this url: https://en.wikipedia.org/wiki/Special:Random (https://en.wikipedia.org/wiki/Special:Random). Once the page is downloaded it prints the name of the wikipedia entry, the date when it was last modified and the categories the page belongs to. If no categories are available it prints a message of \"no categories available\"."
   ]
  },
  {
   "cell_type": "code",
   "execution_count": 5,
   "metadata": {},
   "outputs": [
    {
     "name": "stdout",
     "output_type": "stream",
     "text": [
      "Name of article:  Zosteromeigenia\n",
      "\n",
      "Categories:  Tachinidae genera | Monotypic Brachycera genera | Diptera of Australasia | Taxa named by Charles Henry Tyler Townsend | Insects described in 1919\n",
      "\n",
      "This page was last edited on 18 July 2019, at 11:38(UTC).\n"
     ]
    }
   ],
   "source": [
    "#load the random wikipedia page\n",
    "response = http.request('GET', 'https://en.wikipedia.org/wiki/Special:Random')\n",
    "page_data  = response.data\n",
    "\n",
    "soup = BeautifulSoup(page_data, 'html.parser')\n",
    "\n",
    "#parsing the data with BS$\n",
    "\n",
    "name_of_entry = soup.h1.text\n",
    "categories = []\n",
    "for category in soup.select('div[id=\"mw-normal-catlinks\"] li a'):\n",
    "    categories.append(category.text)\n",
    "\n",
    "categories = ' | '.join(categories)\n",
    "if not categories:\n",
    "    categories = 'no categories available'\n",
    "    \n",
    "last_mod = soup.select('li[id=\"footer-info-lastmod\"]')\n",
    "if last_mod:\n",
    "    last_modified_date = last_mod[0].text.strip().replace('\\xa0','')\n",
    "else:\n",
    "    last_modified_date = ''\n",
    "    \n",
    "    \n",
    "print('Name of article: ',name_of_entry,end='\\n\\n')\n",
    "print('Categories: ', categories,end='\\n\\n')\n",
    "print(last_modified_date)"
   ]
  },
  {
   "cell_type": "markdown",
   "metadata": {},
   "source": [
    "### 1. Scrape Github Repository List using BeautifulSoup\n",
    "In this part you will explore Github repositories, specifically the 100 most-starred repositories. You are going to scrape data from [this repository list](https://github.com/search?o=desc&q=stars%3A%3E1&s=stars&type=Repositories)."
   ]
  },
  {
   "cell_type": "markdown",
   "metadata": {},
   "source": [
    "### 1.1. Check whether you are permitted to scrape the data\n",
    "Before you start to scrape any website you should go through the terms and services or similar pages of the website. Almost all websites post conditions to use their data. Check the terms of [https://github.com/](https://github.com/) to see whether the site permits you to scrape their data or not. Are you sure you are allowed to scrape?"
   ]
  },
  {
   "cell_type": "markdown",
   "metadata": {},
   "source": [
    "**Your solution:**\n"
   ]
  },
  {
   "cell_type": "markdown",
   "metadata": {},
   "source": [
    "Scraping github is allowed for reasearch and learning purpose as long as the projects are opensource.\n",
    "\n",
    "Source: https://github.com/github/site-policy/issues/56"
   ]
  },
  {
   "cell_type": "markdown",
   "metadata": {},
   "source": [
    "### Task 1.2 Load the Data\n",
    "\n",
    "To avoid any problems with GitHub blocking us from downloading the data many times, we have downloaded and saved all the html files in the [data](data) folder (you can find it in Lecture 5 moodle section - the file is named data.zip, copy it to your folder where the notebook is, and extract it there). You will be treating the data folder as your website to be scraped. The path to data folder is stored in `DATA_PATH` variable.\n",
    "\n",
    "In the data folder you will find first 10 pages of highly starred repositories saved as `searchPage1.html`,`searchPage2.html`,`searchPage3.html` ... `searchPage10.html`\n",
    "\n",
    "Now read these html files in python and create a soup object. This is a two step process:\n",
    " * Read the text in the html files\n",
    " * Create the soup from the files that you've read. \n",
    " \n",
    "We recommend that you create a single soup using BeautifulSoups' [append()](https://www.crummy.com/software/BeautifulSoup/bs4/doc/#append) function."
   ]
  },
  {
   "cell_type": "code",
   "execution_count": 6,
   "metadata": {},
   "outputs": [],
   "source": [
    " soup = BeautifulSoup('','html.parser')"
   ]
  },
  {
   "cell_type": "code",
   "execution_count": 7,
   "metadata": {},
   "outputs": [
    {
     "name": "stdout",
     "output_type": "stream",
     "text": [
      "100 repos found\n"
     ]
    }
   ],
   "source": [
    "## Your code goes here\n",
    "html_files = [file for file in os.listdir(DATA_PATH) if '.html' in file]\n",
    "for file in html_files:\n",
    "    with open(os.path.join(DATA_PATH,file),'r') as f:\n",
    "        html_data = f.read()\n",
    "    curr_soup = BeautifulSoup(html_data, 'html.parser')\n",
    "    soup.append(curr_soup)\n",
    "    \n",
    "\n",
    "    \n",
    "\n",
    "repo_paths= [anchor['href'] for anchor in soup.select('li.repo-list-item h3 a')]\n",
    "print(len(repo_paths), 'repos found')\n",
    "    "
   ]
  },
  {
   "cell_type": "markdown",
   "metadata": {},
   "source": [
    "### 1.3. Extract Data\n",
    "\n",
    "Extract the following data for each repository, and create a Pandas Dataframe with a row for each repository and a column for each of these datums. \n",
    "\n",
    "1. Name of the repository\n",
    "+ Number of contributors \n",
    "+ Programming language used \n",
    "+ Number of stars \n",
    "+ Number of issues\n",
    "+ Number of forks\n",
    "+ Length of readme file.\n",
    "\n",
    "Note that you will first have to extract links from the soup that you just scraped earlier. When you extract the link for the repository it will be a path to the stored html page for the repository. You will use this path to read the file and extract the above information.\n",
    "\n",
    "Refer to the scraping lecture for details on how to do this. We recommend you use the web inspector to identify the relevant structures. \n",
    "\n",
    "Save the dataframe you created to a new file `project_info.csv` and ***include this in your submission***. You will loose points if you don't."
   ]
  },
  {
   "cell_type": "code",
   "execution_count": 8,
   "metadata": {
    "scrolled": true
   },
   "outputs": [
    {
     "name": "stdout",
     "output_type": "stream",
     "text": [
      "     repository contributors Programming_language  stars issues  forks  \\\n",
      "0  react-router          542           JavaScript  34781     38   7200   \n",
      "1          yarn          478           JavaScript  34772   1616   2077   \n",
      "2       next.js          625           JavaScript  34716    212   3882   \n",
      "3    impress.js           60           JavaScript  34489     40   6793   \n",
      "4         redis          292                    C  34254   1383  13102   \n",
      "\n",
      "   readme_len  \n",
      "0       881.0  \n",
      "1      1921.0  \n",
      "2     57501.0  \n",
      "3      5794.0  \n",
      "4     19298.0  \n",
      "Saving the dataframe to csv\n"
     ]
    }
   ],
   "source": [
    "## parsing the repo main html files from the links obtained above\n",
    "df = pd.DataFrame({\n",
    "    'repository':[],\n",
    "    'contributors':[],\n",
    "    'Programming_language':[],\n",
    "    'stars':[],\n",
    "    'issues':[],\n",
    "    'forks':[],\n",
    "    'readme_len':[],\n",
    "})\n",
    "\n",
    "count = 0\n",
    "for repo_path in repo_paths:\n",
    "    with open(repo_path,'r') as f:\n",
    "        html_data = f.read()\n",
    "        soup = BeautifulSoup(html_data, 'html.parser')\n",
    "        repo_name = soup.select('h1 strong[itemprop=\"name\"]')[0].text\n",
    "#         print(repo_name)\n",
    "        contributors = soup.select('a:contains(\"contributors\")')[0].text.replace(\"contributors\",\"\").strip().replace(',','')\n",
    "        programming_lang = soup.select('span[class=\"lang\"]')\n",
    "        if programming_lang:\n",
    "            programming_lang = programming_lang[0].text\n",
    "        else:\n",
    "            programming_lang = ''\n",
    "        stars = soup.select('li:contains(\"Star\")')[0].text.replace(\"Star\",\"\").strip().replace(',','')\n",
    "        issues = soup.select('a:contains(\"Issues\")')\n",
    "        if issues:\n",
    "            issues = issues[0].text.replace(\"Issues\",\"\").strip().replace(',','')\n",
    "        else:\n",
    "            issues = 0\n",
    "        fork = soup.select('li:contains(\"Fork\")')[0].text.replace(\"Fork\",\"\").strip().replace(',','')\n",
    "        length_readme = len(soup.select('div[id=\"readme\"]')[0].text)\n",
    "        \n",
    "        df.loc[count] = [repo_name,contributors,programming_lang,stars,issues,fork,length_readme]\n",
    "        count+=1\n",
    "        \n",
    "print(df.head())\n",
    "print('Saving the dataframe to csv')\n",
    "df.to_csv('project_info.csv',index=False)"
   ]
  },
  {
   "cell_type": "markdown",
   "metadata": {},
   "source": [
    "### 2. Analyzing the repository data\n",
    "\n",
    "In this part, you will analyze the data collectd. The goal is to identify properties that make a repository popular. \n",
    "\n",
    "First, load the `project_info.csv` file in again. **We need you to do this so that we can run your code below without having to run your scraping code, which can be slow.**"
   ]
  },
  {
   "cell_type": "code",
   "execution_count": 9,
   "metadata": {},
   "outputs": [],
   "source": [
    "# Read your csv here\n",
    "df = pd.read_csv('project_info.csv')\n"
   ]
  },
  {
   "cell_type": "markdown",
   "metadata": {},
   "source": [
    "### 2.1. Reformat the data into useful datatypes\n",
    "\n",
    "1. Print the data types for the columns of your dataframe\n",
    "+ Reformat the colums Issues, Forks, Stars, and Contributers to be integer data\n",
    "+ There is one repository flagged as having infinite contributers (the Linux kernel). We'll assume that it in fact has 15000 contributors (about twice as much as the next project). "
   ]
  },
  {
   "cell_type": "code",
   "execution_count": 10,
   "metadata": {},
   "outputs": [
    {
     "name": "stdout",
     "output_type": "stream",
     "text": [
      "Dtype before\n",
      "repository               object\n",
      "contributors             object\n",
      "Programming_language     object\n",
      "stars                     int64\n",
      "issues                    int64\n",
      "forks                     int64\n",
      "readme_len              float64\n",
      "dtype: object\n",
      "\n",
      "\n",
      " Dtype After\n",
      "repository              object\n",
      "contributors             int64\n",
      "Programming_language    object\n",
      "stars                    int64\n",
      "issues                   int64\n",
      "forks                    int64\n",
      "readme_len               int64\n",
      "dtype: object\n"
     ]
    }
   ],
   "source": [
    "#1\n",
    "print('Dtype before')\n",
    "print(df.dtypes)\n",
    "\n",
    "#2,3\n",
    "# df.replace('')\n",
    "#fixing the infinite symbol in contributors for linux. Replaching it by 15000\n",
    "df = df.replace('∞',15000)\n",
    "df = df.astype({'contributors':int,'stars':int,'issues':int,'forks':int,'readme_len':int})\n",
    "\n",
    "\n",
    "\n",
    "print('\\n\\n','Dtype After')\n",
    "\n",
    "print(df.dtypes)"
   ]
  },
  {
   "cell_type": "markdown",
   "metadata": {},
   "source": [
    "### Task 2.2 Describe the data\n",
    "\n",
    "+ Get an overview of the data using the describe function.\n",
    "+ Compute the correlation matrix, visualize it with a heat map.\n",
    "+ Visualize the correlations by making a scatterplot matrix.\n",
    "+ Interprete what you see.\n",
    "\n",
    "You can re-use code from your previous homework here."
   ]
  },
  {
   "cell_type": "code",
   "execution_count": 11,
   "metadata": {},
   "outputs": [
    {
     "data": {
      "text/html": [
       "<div>\n",
       "<style scoped>\n",
       "    .dataframe tbody tr th:only-of-type {\n",
       "        vertical-align: middle;\n",
       "    }\n",
       "\n",
       "    .dataframe tbody tr th {\n",
       "        vertical-align: top;\n",
       "    }\n",
       "\n",
       "    .dataframe thead th {\n",
       "        text-align: right;\n",
       "    }\n",
       "</style>\n",
       "<table border=\"1\" class=\"dataframe\">\n",
       "  <thead>\n",
       "    <tr style=\"text-align: right;\">\n",
       "      <th></th>\n",
       "      <th>contributors</th>\n",
       "      <th>stars</th>\n",
       "      <th>issues</th>\n",
       "      <th>forks</th>\n",
       "      <th>readme_len</th>\n",
       "    </tr>\n",
       "  </thead>\n",
       "  <tbody>\n",
       "    <tr>\n",
       "      <th>count</th>\n",
       "      <td>100.000000</td>\n",
       "      <td>100.000000</td>\n",
       "      <td>100.000000</td>\n",
       "      <td>100.000000</td>\n",
       "      <td>100.000000</td>\n",
       "    </tr>\n",
       "    <tr>\n",
       "      <th>mean</th>\n",
       "      <td>781.860000</td>\n",
       "      <td>53273.770000</td>\n",
       "      <td>757.530000</td>\n",
       "      <td>12091.810000</td>\n",
       "      <td>13534.020000</td>\n",
       "    </tr>\n",
       "    <tr>\n",
       "      <th>std</th>\n",
       "      <td>1633.637257</td>\n",
       "      <td>33218.146273</td>\n",
       "      <td>1221.937065</td>\n",
       "      <td>10648.688346</td>\n",
       "      <td>24186.722523</td>\n",
       "    </tr>\n",
       "    <tr>\n",
       "      <th>min</th>\n",
       "      <td>2.000000</td>\n",
       "      <td>32952.000000</td>\n",
       "      <td>0.000000</td>\n",
       "      <td>919.000000</td>\n",
       "      <td>466.000000</td>\n",
       "    </tr>\n",
       "    <tr>\n",
       "      <th>25%</th>\n",
       "      <td>139.000000</td>\n",
       "      <td>35509.500000</td>\n",
       "      <td>40.000000</td>\n",
       "      <td>5994.250000</td>\n",
       "      <td>2147.000000</td>\n",
       "    </tr>\n",
       "    <tr>\n",
       "      <th>50%</th>\n",
       "      <td>390.500000</td>\n",
       "      <td>44438.500000</td>\n",
       "      <td>294.500000</td>\n",
       "      <td>9273.000000</td>\n",
       "      <td>4128.500000</td>\n",
       "    </tr>\n",
       "    <tr>\n",
       "      <th>75%</th>\n",
       "      <td>826.250000</td>\n",
       "      <td>55545.750000</td>\n",
       "      <td>654.500000</td>\n",
       "      <td>15073.500000</td>\n",
       "      <td>11774.750000</td>\n",
       "    </tr>\n",
       "    <tr>\n",
       "      <th>max</th>\n",
       "      <td>15000.000000</td>\n",
       "      <td>297367.000000</td>\n",
       "      <td>4928.000000</td>\n",
       "      <td>72013.000000</td>\n",
       "      <td>158623.000000</td>\n",
       "    </tr>\n",
       "  </tbody>\n",
       "</table>\n",
       "</div>"
      ],
      "text/plain": [
       "       contributors          stars       issues         forks     readme_len\n",
       "count    100.000000     100.000000   100.000000    100.000000     100.000000\n",
       "mean     781.860000   53273.770000   757.530000  12091.810000   13534.020000\n",
       "std     1633.637257   33218.146273  1221.937065  10648.688346   24186.722523\n",
       "min        2.000000   32952.000000     0.000000    919.000000     466.000000\n",
       "25%      139.000000   35509.500000    40.000000   5994.250000    2147.000000\n",
       "50%      390.500000   44438.500000   294.500000   9273.000000    4128.500000\n",
       "75%      826.250000   55545.750000   654.500000  15073.500000   11774.750000\n",
       "max    15000.000000  297367.000000  4928.000000  72013.000000  158623.000000"
      ]
     },
     "execution_count": 11,
     "metadata": {},
     "output_type": "execute_result"
    }
   ],
   "source": [
    "# your code goes here\n",
    "df.describe()"
   ]
  },
  {
   "cell_type": "code",
   "execution_count": 12,
   "metadata": {},
   "outputs": [
    {
     "data": {
      "text/html": [
       "<div>\n",
       "<style scoped>\n",
       "    .dataframe tbody tr th:only-of-type {\n",
       "        vertical-align: middle;\n",
       "    }\n",
       "\n",
       "    .dataframe tbody tr th {\n",
       "        vertical-align: top;\n",
       "    }\n",
       "\n",
       "    .dataframe thead th {\n",
       "        text-align: right;\n",
       "    }\n",
       "</style>\n",
       "<table border=\"1\" class=\"dataframe\">\n",
       "  <thead>\n",
       "    <tr style=\"text-align: right;\">\n",
       "      <th></th>\n",
       "      <th>contributors</th>\n",
       "      <th>stars</th>\n",
       "      <th>issues</th>\n",
       "      <th>forks</th>\n",
       "      <th>readme_len</th>\n",
       "    </tr>\n",
       "  </thead>\n",
       "  <tbody>\n",
       "    <tr>\n",
       "      <th>contributors</th>\n",
       "      <td>1.000000</td>\n",
       "      <td>0.201100</td>\n",
       "      <td>0.132525</td>\n",
       "      <td>0.255113</td>\n",
       "      <td>-0.067756</td>\n",
       "    </tr>\n",
       "    <tr>\n",
       "      <th>stars</th>\n",
       "      <td>0.201100</td>\n",
       "      <td>1.000000</td>\n",
       "      <td>-0.061251</td>\n",
       "      <td>0.520185</td>\n",
       "      <td>-0.041444</td>\n",
       "    </tr>\n",
       "    <tr>\n",
       "      <th>issues</th>\n",
       "      <td>0.132525</td>\n",
       "      <td>-0.061251</td>\n",
       "      <td>1.000000</td>\n",
       "      <td>-0.036944</td>\n",
       "      <td>-0.146726</td>\n",
       "    </tr>\n",
       "    <tr>\n",
       "      <th>forks</th>\n",
       "      <td>0.255113</td>\n",
       "      <td>0.520185</td>\n",
       "      <td>-0.036944</td>\n",
       "      <td>1.000000</td>\n",
       "      <td>-0.112396</td>\n",
       "    </tr>\n",
       "    <tr>\n",
       "      <th>readme_len</th>\n",
       "      <td>-0.067756</td>\n",
       "      <td>-0.041444</td>\n",
       "      <td>-0.146726</td>\n",
       "      <td>-0.112396</td>\n",
       "      <td>1.000000</td>\n",
       "    </tr>\n",
       "  </tbody>\n",
       "</table>\n",
       "</div>"
      ],
      "text/plain": [
       "              contributors     stars    issues     forks  readme_len\n",
       "contributors      1.000000  0.201100  0.132525  0.255113   -0.067756\n",
       "stars             0.201100  1.000000 -0.061251  0.520185   -0.041444\n",
       "issues            0.132525 -0.061251  1.000000 -0.036944   -0.146726\n",
       "forks             0.255113  0.520185 -0.036944  1.000000   -0.112396\n",
       "readme_len       -0.067756 -0.041444 -0.146726 -0.112396    1.000000"
      ]
     },
     "execution_count": 12,
     "metadata": {},
     "output_type": "execute_result"
    }
   ],
   "source": [
    "df.corr()"
   ]
  },
  {
   "cell_type": "code",
   "execution_count": 13,
   "metadata": {},
   "outputs": [
    {
     "data": {
      "text/html": [
       "<style  type=\"text/css\" >\n",
       "    #T_36f328f2_8a3f_11ea_a02c_499b05a5fe0arow0_col0 {\n",
       "            background-color:  #b40426;\n",
       "            color:  #f1f1f1;\n",
       "        }    #T_36f328f2_8a3f_11ea_a02c_499b05a5fe0arow0_col1 {\n",
       "            background-color:  #8caffe;\n",
       "            color:  #000000;\n",
       "        }    #T_36f328f2_8a3f_11ea_a02c_499b05a5fe0arow0_col2 {\n",
       "            background-color:  #8badfd;\n",
       "            color:  #000000;\n",
       "        }    #T_36f328f2_8a3f_11ea_a02c_499b05a5fe0arow0_col3 {\n",
       "            background-color:  #a9c6fd;\n",
       "            color:  #000000;\n",
       "        }    #T_36f328f2_8a3f_11ea_a02c_499b05a5fe0arow0_col4 {\n",
       "            background-color:  #4f69d9;\n",
       "            color:  #000000;\n",
       "        }    #T_36f328f2_8a3f_11ea_a02c_499b05a5fe0arow1_col0 {\n",
       "            background-color:  #8db0fe;\n",
       "            color:  #000000;\n",
       "        }    #T_36f328f2_8a3f_11ea_a02c_499b05a5fe0arow1_col1 {\n",
       "            background-color:  #b40426;\n",
       "            color:  #f1f1f1;\n",
       "        }    #T_36f328f2_8a3f_11ea_a02c_499b05a5fe0arow1_col2 {\n",
       "            background-color:  #516ddb;\n",
       "            color:  #000000;\n",
       "        }    #T_36f328f2_8a3f_11ea_a02c_499b05a5fe0arow1_col3 {\n",
       "            background-color:  #edd2c3;\n",
       "            color:  #000000;\n",
       "        }    #T_36f328f2_8a3f_11ea_a02c_499b05a5fe0arow1_col4 {\n",
       "            background-color:  #5673e0;\n",
       "            color:  #000000;\n",
       "        }    #T_36f328f2_8a3f_11ea_a02c_499b05a5fe0arow2_col0 {\n",
       "            background-color:  #779af7;\n",
       "            color:  #000000;\n",
       "        }    #T_36f328f2_8a3f_11ea_a02c_499b05a5fe0arow2_col1 {\n",
       "            background-color:  #3b4cc0;\n",
       "            color:  #f1f1f1;\n",
       "        }    #T_36f328f2_8a3f_11ea_a02c_499b05a5fe0arow2_col2 {\n",
       "            background-color:  #b40426;\n",
       "            color:  #f1f1f1;\n",
       "        }    #T_36f328f2_8a3f_11ea_a02c_499b05a5fe0arow2_col3 {\n",
       "            background-color:  #4f69d9;\n",
       "            color:  #000000;\n",
       "        }    #T_36f328f2_8a3f_11ea_a02c_499b05a5fe0arow2_col4 {\n",
       "            background-color:  #3b4cc0;\n",
       "            color:  #f1f1f1;\n",
       "        }    #T_36f328f2_8a3f_11ea_a02c_499b05a5fe0arow3_col0 {\n",
       "            background-color:  #9fbfff;\n",
       "            color:  #000000;\n",
       "        }    #T_36f328f2_8a3f_11ea_a02c_499b05a5fe0arow3_col1 {\n",
       "            background-color:  #e9d5cb;\n",
       "            color:  #000000;\n",
       "        }    #T_36f328f2_8a3f_11ea_a02c_499b05a5fe0arow3_col2 {\n",
       "            background-color:  #5875e1;\n",
       "            color:  #000000;\n",
       "        }    #T_36f328f2_8a3f_11ea_a02c_499b05a5fe0arow3_col3 {\n",
       "            background-color:  #b40426;\n",
       "            color:  #f1f1f1;\n",
       "        }    #T_36f328f2_8a3f_11ea_a02c_499b05a5fe0arow3_col4 {\n",
       "            background-color:  #4358cb;\n",
       "            color:  #f1f1f1;\n",
       "        }    #T_36f328f2_8a3f_11ea_a02c_499b05a5fe0arow4_col0 {\n",
       "            background-color:  #3b4cc0;\n",
       "            color:  #f1f1f1;\n",
       "        }    #T_36f328f2_8a3f_11ea_a02c_499b05a5fe0arow4_col1 {\n",
       "            background-color:  #3f53c6;\n",
       "            color:  #f1f1f1;\n",
       "        }    #T_36f328f2_8a3f_11ea_a02c_499b05a5fe0arow4_col2 {\n",
       "            background-color:  #3b4cc0;\n",
       "            color:  #f1f1f1;\n",
       "        }    #T_36f328f2_8a3f_11ea_a02c_499b05a5fe0arow4_col3 {\n",
       "            background-color:  #3b4cc0;\n",
       "            color:  #f1f1f1;\n",
       "        }    #T_36f328f2_8a3f_11ea_a02c_499b05a5fe0arow4_col4 {\n",
       "            background-color:  #b40426;\n",
       "            color:  #f1f1f1;\n",
       "        }</style><table id=\"T_36f328f2_8a3f_11ea_a02c_499b05a5fe0a\" ><thead>    <tr>        <th class=\"blank level0\" ></th>        <th class=\"col_heading level0 col0\" >contributors</th>        <th class=\"col_heading level0 col1\" >stars</th>        <th class=\"col_heading level0 col2\" >issues</th>        <th class=\"col_heading level0 col3\" >forks</th>        <th class=\"col_heading level0 col4\" >readme_len</th>    </tr></thead><tbody>\n",
       "                <tr>\n",
       "                        <th id=\"T_36f328f2_8a3f_11ea_a02c_499b05a5fe0alevel0_row0\" class=\"row_heading level0 row0\" >contributors</th>\n",
       "                        <td id=\"T_36f328f2_8a3f_11ea_a02c_499b05a5fe0arow0_col0\" class=\"data row0 col0\" >1.00</td>\n",
       "                        <td id=\"T_36f328f2_8a3f_11ea_a02c_499b05a5fe0arow0_col1\" class=\"data row0 col1\" >0.20</td>\n",
       "                        <td id=\"T_36f328f2_8a3f_11ea_a02c_499b05a5fe0arow0_col2\" class=\"data row0 col2\" >0.13</td>\n",
       "                        <td id=\"T_36f328f2_8a3f_11ea_a02c_499b05a5fe0arow0_col3\" class=\"data row0 col3\" >0.26</td>\n",
       "                        <td id=\"T_36f328f2_8a3f_11ea_a02c_499b05a5fe0arow0_col4\" class=\"data row0 col4\" >-0.07</td>\n",
       "            </tr>\n",
       "            <tr>\n",
       "                        <th id=\"T_36f328f2_8a3f_11ea_a02c_499b05a5fe0alevel0_row1\" class=\"row_heading level0 row1\" >stars</th>\n",
       "                        <td id=\"T_36f328f2_8a3f_11ea_a02c_499b05a5fe0arow1_col0\" class=\"data row1 col0\" >0.20</td>\n",
       "                        <td id=\"T_36f328f2_8a3f_11ea_a02c_499b05a5fe0arow1_col1\" class=\"data row1 col1\" >1.00</td>\n",
       "                        <td id=\"T_36f328f2_8a3f_11ea_a02c_499b05a5fe0arow1_col2\" class=\"data row1 col2\" >-0.06</td>\n",
       "                        <td id=\"T_36f328f2_8a3f_11ea_a02c_499b05a5fe0arow1_col3\" class=\"data row1 col3\" >0.52</td>\n",
       "                        <td id=\"T_36f328f2_8a3f_11ea_a02c_499b05a5fe0arow1_col4\" class=\"data row1 col4\" >-0.04</td>\n",
       "            </tr>\n",
       "            <tr>\n",
       "                        <th id=\"T_36f328f2_8a3f_11ea_a02c_499b05a5fe0alevel0_row2\" class=\"row_heading level0 row2\" >issues</th>\n",
       "                        <td id=\"T_36f328f2_8a3f_11ea_a02c_499b05a5fe0arow2_col0\" class=\"data row2 col0\" >0.13</td>\n",
       "                        <td id=\"T_36f328f2_8a3f_11ea_a02c_499b05a5fe0arow2_col1\" class=\"data row2 col1\" >-0.06</td>\n",
       "                        <td id=\"T_36f328f2_8a3f_11ea_a02c_499b05a5fe0arow2_col2\" class=\"data row2 col2\" >1.00</td>\n",
       "                        <td id=\"T_36f328f2_8a3f_11ea_a02c_499b05a5fe0arow2_col3\" class=\"data row2 col3\" >-0.04</td>\n",
       "                        <td id=\"T_36f328f2_8a3f_11ea_a02c_499b05a5fe0arow2_col4\" class=\"data row2 col4\" >-0.15</td>\n",
       "            </tr>\n",
       "            <tr>\n",
       "                        <th id=\"T_36f328f2_8a3f_11ea_a02c_499b05a5fe0alevel0_row3\" class=\"row_heading level0 row3\" >forks</th>\n",
       "                        <td id=\"T_36f328f2_8a3f_11ea_a02c_499b05a5fe0arow3_col0\" class=\"data row3 col0\" >0.26</td>\n",
       "                        <td id=\"T_36f328f2_8a3f_11ea_a02c_499b05a5fe0arow3_col1\" class=\"data row3 col1\" >0.52</td>\n",
       "                        <td id=\"T_36f328f2_8a3f_11ea_a02c_499b05a5fe0arow3_col2\" class=\"data row3 col2\" >-0.04</td>\n",
       "                        <td id=\"T_36f328f2_8a3f_11ea_a02c_499b05a5fe0arow3_col3\" class=\"data row3 col3\" >1.00</td>\n",
       "                        <td id=\"T_36f328f2_8a3f_11ea_a02c_499b05a5fe0arow3_col4\" class=\"data row3 col4\" >-0.11</td>\n",
       "            </tr>\n",
       "            <tr>\n",
       "                        <th id=\"T_36f328f2_8a3f_11ea_a02c_499b05a5fe0alevel0_row4\" class=\"row_heading level0 row4\" >readme_len</th>\n",
       "                        <td id=\"T_36f328f2_8a3f_11ea_a02c_499b05a5fe0arow4_col0\" class=\"data row4 col0\" >-0.07</td>\n",
       "                        <td id=\"T_36f328f2_8a3f_11ea_a02c_499b05a5fe0arow4_col1\" class=\"data row4 col1\" >-0.04</td>\n",
       "                        <td id=\"T_36f328f2_8a3f_11ea_a02c_499b05a5fe0arow4_col2\" class=\"data row4 col2\" >-0.15</td>\n",
       "                        <td id=\"T_36f328f2_8a3f_11ea_a02c_499b05a5fe0arow4_col3\" class=\"data row4 col3\" >-0.11</td>\n",
       "                        <td id=\"T_36f328f2_8a3f_11ea_a02c_499b05a5fe0arow4_col4\" class=\"data row4 col4\" >1.00</td>\n",
       "            </tr>\n",
       "    </tbody></table>"
      ],
      "text/plain": [
       "<pandas.io.formats.style.Styler at 0x7fbe0f083a10>"
      ]
     },
     "execution_count": 13,
     "metadata": {},
     "output_type": "execute_result"
    }
   ],
   "source": [
    "#heatmap of correlation\n",
    "df.corr().style.background_gradient(cmap='coolwarm').set_precision(2)\n"
   ]
  },
  {
   "cell_type": "code",
   "execution_count": 21,
   "metadata": {},
   "outputs": [
    {
     "name": "stderr",
     "output_type": "stream",
     "text": [
      "/home/ali/.local/lib/python3.7/site-packages/pandas/plotting/_matplotlib/tools.py:298: MatplotlibDeprecationWarning: \n",
      "The rowNum attribute was deprecated in Matplotlib 3.2 and will be removed two minor releases later. Use ax.get_subplotspec().rowspan.start instead.\n",
      "  layout[ax.rowNum, ax.colNum] = ax.get_visible()\n",
      "/home/ali/.local/lib/python3.7/site-packages/pandas/plotting/_matplotlib/tools.py:298: MatplotlibDeprecationWarning: \n",
      "The colNum attribute was deprecated in Matplotlib 3.2 and will be removed two minor releases later. Use ax.get_subplotspec().colspan.start instead.\n",
      "  layout[ax.rowNum, ax.colNum] = ax.get_visible()\n",
      "/home/ali/.local/lib/python3.7/site-packages/pandas/plotting/_matplotlib/tools.py:304: MatplotlibDeprecationWarning: \n",
      "The rowNum attribute was deprecated in Matplotlib 3.2 and will be removed two minor releases later. Use ax.get_subplotspec().rowspan.start instead.\n",
      "  if not layout[ax.rowNum + 1, ax.colNum]:\n",
      "/home/ali/.local/lib/python3.7/site-packages/pandas/plotting/_matplotlib/tools.py:304: MatplotlibDeprecationWarning: \n",
      "The colNum attribute was deprecated in Matplotlib 3.2 and will be removed two minor releases later. Use ax.get_subplotspec().colspan.start instead.\n",
      "  if not layout[ax.rowNum + 1, ax.colNum]:\n"
     ]
    },
    {
     "data": {
      "image/png": "[encoded data removed]",
      "text/plain": [
       "<Figure size 432x288 with 25 Axes>"
      ]
     },
     "metadata": {
      "needs_background": "light"
     },
     "output_type": "display_data"
    }
   ],
   "source": [
    "#scatter plot\n",
    "\n",
    "corr = df.corr()\n",
    "axes = pd.plotting.scatter_matrix(corr,alpha=0.5,diagonal='kde');\n",
    "corr = df.corr().values\n",
    "for i, j in zip(*plt.np.triu_indices_from(axes, k=1)):\n",
    "    axes[i, j].annotate(\"%.3f\" %corr[i,j], (0.8, 0.8), xycoords='axes fraction', ha='center', va='center')\n",
    "plt.show()"
   ]
  },
  {
   "cell_type": "markdown",
   "metadata": {},
   "source": [
    "**Your Interpretation:** TODO"
   ]
  },
  {
   "cell_type": "markdown",
   "metadata": {},
   "source": [
    "We see positive correlation between contribution, stars and forks\n",
    "\n",
    "Explanation: projects with more contributors receive more stars and forks which makes sense\n",
    "\n",
    "issues has weak positive correlation with contributors and negative correlation with other columns\n",
    "Explanation: since there are more contributors the issues are solved quickly. So we have fewer issues in famous project. This explains the negative and weak positive correlation\n"
   ]
  },
  {
   "cell_type": "code",
   "execution_count": null,
   "metadata": {},
   "outputs": [],
   "source": []
  }
 ],
 "metadata": {
  "kernelspec": {
   "display_name": "Python 3",
   "language": "python",
   "name": "python3"
  },
  "language_info": {
   "codemirror_mode": {
    "name": "ipython",
    "version": 3
   },
   "file_extension": ".py",
   "mimetype": "text/x-python",
   "name": "python",
   "nbconvert_exporter": "python",
   "pygments_lexer": "ipython3",
   "version": "3.7.6"
  }
 },
 "nbformat": 4,
 "nbformat_minor": 4
}
